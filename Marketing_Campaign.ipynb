{
  "nbformat": 4,
  "nbformat_minor": 0,
  "metadata": {
    "colab": {
      "provenance": [],
      "authorship_tag": "ABX9TyMAuHKl7YdaiWLY3loIR99F",
      "include_colab_link": true
    },
    "kernelspec": {
      "name": "python3",
      "display_name": "Python 3"
    },
    "language_info": {
      "name": "python"
    }
  },
  "cells": [
    {
      "cell_type": "markdown",
      "metadata": {
        "id": "view-in-github",
        "colab_type": "text"
      },
      "source": [
        "<a href=\"https://colab.research.google.com/github/pritam-cmd/Data-science-masters-resources-pw-skills/blob/main/Marketing_Campaign.ipynb\" target=\"_parent\"><img src=\"https://colab.research.google.com/assets/colab-badge.svg\" alt=\"Open In Colab\"/></a>"
      ]
    },
    {
      "cell_type": "code",
      "execution_count": 1,
      "metadata": {
        "id": "Sd5GEPqf7M2w"
      },
      "outputs": [],
      "source": [
        "import pandas as pd"
      ]
    },
    {
      "cell_type": "code",
      "source": [
        "df = pd.read_csv(\"/content/marketing_campaign.csv\", sep=';')"
      ],
      "metadata": {
        "id": "wrJ9Drib7W7p"
      },
      "execution_count": 2,
      "outputs": []
    },
    {
      "cell_type": "code",
      "source": [
        "print(df)"
      ],
      "metadata": {
        "colab": {
          "base_uri": "https://localhost:8080/"
        },
        "id": "0RrMZc4t77Md",
        "outputId": "b0389ac6-827b-4be0-e73b-0d086afc0e20"
      },
      "execution_count": 3,
      "outputs": [
        {
          "output_type": "stream",
          "name": "stdout",
          "text": [
            "         ID  Year_Birth   Education Marital_Status   Income  Kidhome  \\\n",
            "0      5524        1957  Graduation         Single  58138.0        0   \n",
            "1      2174        1954  Graduation         Single  46344.0        1   \n",
            "2      4141        1965  Graduation       Together  71613.0        0   \n",
            "3      6182        1984  Graduation       Together  26646.0        1   \n",
            "4      5324        1981         PhD        Married  58293.0        1   \n",
            "...     ...         ...         ...            ...      ...      ...   \n",
            "2235  10870        1967  Graduation        Married  61223.0        0   \n",
            "2236   4001        1946         PhD       Together  64014.0        2   \n",
            "2237   7270        1981  Graduation       Divorced  56981.0        0   \n",
            "2238   8235        1956      Master       Together  69245.0        0   \n",
            "2239   9405        1954         PhD        Married  52869.0        1   \n",
            "\n",
            "      Teenhome Dt_Customer  Recency  MntWines  ...  NumWebVisitsMonth  \\\n",
            "0            0  2012-09-04       58       635  ...                  7   \n",
            "1            1  2014-03-08       38        11  ...                  5   \n",
            "2            0  2013-08-21       26       426  ...                  4   \n",
            "3            0  2014-02-10       26        11  ...                  6   \n",
            "4            0  2014-01-19       94       173  ...                  5   \n",
            "...        ...         ...      ...       ...  ...                ...   \n",
            "2235         1  2013-06-13       46       709  ...                  5   \n",
            "2236         1  2014-06-10       56       406  ...                  7   \n",
            "2237         0  2014-01-25       91       908  ...                  6   \n",
            "2238         1  2014-01-24        8       428  ...                  3   \n",
            "2239         1  2012-10-15       40        84  ...                  7   \n",
            "\n",
            "      AcceptedCmp3  AcceptedCmp4  AcceptedCmp5  AcceptedCmp1  AcceptedCmp2  \\\n",
            "0                0             0             0             0             0   \n",
            "1                0             0             0             0             0   \n",
            "2                0             0             0             0             0   \n",
            "3                0             0             0             0             0   \n",
            "4                0             0             0             0             0   \n",
            "...            ...           ...           ...           ...           ...   \n",
            "2235             0             0             0             0             0   \n",
            "2236             0             0             0             1             0   \n",
            "2237             0             1             0             0             0   \n",
            "2238             0             0             0             0             0   \n",
            "2239             0             0             0             0             0   \n",
            "\n",
            "      Complain  Z_CostContact  Z_Revenue  Response  \n",
            "0            0              3         11         1  \n",
            "1            0              3         11         0  \n",
            "2            0              3         11         0  \n",
            "3            0              3         11         0  \n",
            "4            0              3         11         0  \n",
            "...        ...            ...        ...       ...  \n",
            "2235         0              3         11         0  \n",
            "2236         0              3         11         0  \n",
            "2237         0              3         11         0  \n",
            "2238         0              3         11         0  \n",
            "2239         0              3         11         1  \n",
            "\n",
            "[2240 rows x 29 columns]\n"
          ]
        }
      ]
    },
    {
      "cell_type": "code",
      "source": [
        "print(df.isnull().sum())"
      ],
      "metadata": {
        "colab": {
          "base_uri": "https://localhost:8080/"
        },
        "id": "00wvRgsD8Fum",
        "outputId": "0c7c1faf-c1f8-4771-d47e-29bab114f102"
      },
      "execution_count": 4,
      "outputs": [
        {
          "output_type": "stream",
          "name": "stdout",
          "text": [
            "ID                      0\n",
            "Year_Birth              0\n",
            "Education               0\n",
            "Marital_Status          0\n",
            "Income                 24\n",
            "Kidhome                 0\n",
            "Teenhome                0\n",
            "Dt_Customer             0\n",
            "Recency                 0\n",
            "MntWines                0\n",
            "MntFruits               0\n",
            "MntMeatProducts         0\n",
            "MntFishProducts         0\n",
            "MntSweetProducts        0\n",
            "MntGoldProds            0\n",
            "NumDealsPurchases       0\n",
            "NumWebPurchases         0\n",
            "NumCatalogPurchases     0\n",
            "NumStorePurchases       0\n",
            "NumWebVisitsMonth       0\n",
            "AcceptedCmp3            0\n",
            "AcceptedCmp4            0\n",
            "AcceptedCmp5            0\n",
            "AcceptedCmp1            0\n",
            "AcceptedCmp2            0\n",
            "Complain                0\n",
            "Z_CostContact           0\n",
            "Z_Revenue               0\n",
            "Response                0\n",
            "dtype: int64\n"
          ]
        }
      ]
    },
    {
      "cell_type": "code",
      "source": [
        "print(df.columns)"
      ],
      "metadata": {
        "colab": {
          "base_uri": "https://localhost:8080/"
        },
        "id": "C5q-3GHx8I8M",
        "outputId": "00431b0a-f672-475e-e529-7ffadec43819"
      },
      "execution_count": 5,
      "outputs": [
        {
          "output_type": "stream",
          "name": "stdout",
          "text": [
            "Index(['ID', 'Year_Birth', 'Education', 'Marital_Status', 'Income', 'Kidhome',\n",
            "       'Teenhome', 'Dt_Customer', 'Recency', 'MntWines', 'MntFruits',\n",
            "       'MntMeatProducts', 'MntFishProducts', 'MntSweetProducts',\n",
            "       'MntGoldProds', 'NumDealsPurchases', 'NumWebPurchases',\n",
            "       'NumCatalogPurchases', 'NumStorePurchases', 'NumWebVisitsMonth',\n",
            "       'AcceptedCmp3', 'AcceptedCmp4', 'AcceptedCmp5', 'AcceptedCmp1',\n",
            "       'AcceptedCmp2', 'Complain', 'Z_CostContact', 'Z_Revenue', 'Response'],\n",
            "      dtype='object')\n"
          ]
        }
      ]
    },
    {
      "cell_type": "code",
      "source": [
        "df['Income'] = df['Income'].fillna(df['Income'].median())"
      ],
      "metadata": {
        "id": "W7A8ADOp8V_S"
      },
      "execution_count": 6,
      "outputs": []
    },
    {
      "cell_type": "code",
      "source": [
        "print(df['Income'])"
      ],
      "metadata": {
        "colab": {
          "base_uri": "https://localhost:8080/"
        },
        "id": "2ywLCQg88YTG",
        "outputId": "2b129790-3d7c-44eb-cf07-179ed1be3dc1"
      },
      "execution_count": 7,
      "outputs": [
        {
          "output_type": "stream",
          "name": "stdout",
          "text": [
            "0       58138.0\n",
            "1       46344.0\n",
            "2       71613.0\n",
            "3       26646.0\n",
            "4       58293.0\n",
            "         ...   \n",
            "2235    61223.0\n",
            "2236    64014.0\n",
            "2237    56981.0\n",
            "2238    69245.0\n",
            "2239    52869.0\n",
            "Name: Income, Length: 2240, dtype: float64\n"
          ]
        }
      ]
    },
    {
      "cell_type": "code",
      "source": [
        "print(df.isnull().sum())"
      ],
      "metadata": {
        "colab": {
          "base_uri": "https://localhost:8080/"
        },
        "id": "0Uh1yJ0S93IP",
        "outputId": "cc58d3c1-8fc2-4a4e-adeb-0f8137acc292"
      },
      "execution_count": 8,
      "outputs": [
        {
          "output_type": "stream",
          "name": "stdout",
          "text": [
            "ID                     0\n",
            "Year_Birth             0\n",
            "Education              0\n",
            "Marital_Status         0\n",
            "Income                 0\n",
            "Kidhome                0\n",
            "Teenhome               0\n",
            "Dt_Customer            0\n",
            "Recency                0\n",
            "MntWines               0\n",
            "MntFruits              0\n",
            "MntMeatProducts        0\n",
            "MntFishProducts        0\n",
            "MntSweetProducts       0\n",
            "MntGoldProds           0\n",
            "NumDealsPurchases      0\n",
            "NumWebPurchases        0\n",
            "NumCatalogPurchases    0\n",
            "NumStorePurchases      0\n",
            "NumWebVisitsMonth      0\n",
            "AcceptedCmp3           0\n",
            "AcceptedCmp4           0\n",
            "AcceptedCmp5           0\n",
            "AcceptedCmp1           0\n",
            "AcceptedCmp2           0\n",
            "Complain               0\n",
            "Z_CostContact          0\n",
            "Z_Revenue              0\n",
            "Response               0\n",
            "dtype: int64\n"
          ]
        }
      ]
    },
    {
      "cell_type": "code",
      "source": [
        "df.dtypes"
      ],
      "metadata": {
        "colab": {
          "base_uri": "https://localhost:8080/",
          "height": 994
        },
        "id": "zUVtH-pB-BGw",
        "outputId": "e0a07def-5c85-422e-b469-3f95c6e655d5"
      },
      "execution_count": 9,
      "outputs": [
        {
          "output_type": "execute_result",
          "data": {
            "text/plain": [
              "ID                       int64\n",
              "Year_Birth               int64\n",
              "Education               object\n",
              "Marital_Status          object\n",
              "Income                 float64\n",
              "Kidhome                  int64\n",
              "Teenhome                 int64\n",
              "Dt_Customer             object\n",
              "Recency                  int64\n",
              "MntWines                 int64\n",
              "MntFruits                int64\n",
              "MntMeatProducts          int64\n",
              "MntFishProducts          int64\n",
              "MntSweetProducts         int64\n",
              "MntGoldProds             int64\n",
              "NumDealsPurchases        int64\n",
              "NumWebPurchases          int64\n",
              "NumCatalogPurchases      int64\n",
              "NumStorePurchases        int64\n",
              "NumWebVisitsMonth        int64\n",
              "AcceptedCmp3             int64\n",
              "AcceptedCmp4             int64\n",
              "AcceptedCmp5             int64\n",
              "AcceptedCmp1             int64\n",
              "AcceptedCmp2             int64\n",
              "Complain                 int64\n",
              "Z_CostContact            int64\n",
              "Z_Revenue                int64\n",
              "Response                 int64\n",
              "dtype: object"
            ],
            "text/html": [
              "<div>\n",
              "<style scoped>\n",
              "    .dataframe tbody tr th:only-of-type {\n",
              "        vertical-align: middle;\n",
              "    }\n",
              "\n",
              "    .dataframe tbody tr th {\n",
              "        vertical-align: top;\n",
              "    }\n",
              "\n",
              "    .dataframe thead th {\n",
              "        text-align: right;\n",
              "    }\n",
              "</style>\n",
              "<table border=\"1\" class=\"dataframe\">\n",
              "  <thead>\n",
              "    <tr style=\"text-align: right;\">\n",
              "      <th></th>\n",
              "      <th>0</th>\n",
              "    </tr>\n",
              "  </thead>\n",
              "  <tbody>\n",
              "    <tr>\n",
              "      <th>ID</th>\n",
              "      <td>int64</td>\n",
              "    </tr>\n",
              "    <tr>\n",
              "      <th>Year_Birth</th>\n",
              "      <td>int64</td>\n",
              "    </tr>\n",
              "    <tr>\n",
              "      <th>Education</th>\n",
              "      <td>object</td>\n",
              "    </tr>\n",
              "    <tr>\n",
              "      <th>Marital_Status</th>\n",
              "      <td>object</td>\n",
              "    </tr>\n",
              "    <tr>\n",
              "      <th>Income</th>\n",
              "      <td>float64</td>\n",
              "    </tr>\n",
              "    <tr>\n",
              "      <th>Kidhome</th>\n",
              "      <td>int64</td>\n",
              "    </tr>\n",
              "    <tr>\n",
              "      <th>Teenhome</th>\n",
              "      <td>int64</td>\n",
              "    </tr>\n",
              "    <tr>\n",
              "      <th>Dt_Customer</th>\n",
              "      <td>object</td>\n",
              "    </tr>\n",
              "    <tr>\n",
              "      <th>Recency</th>\n",
              "      <td>int64</td>\n",
              "    </tr>\n",
              "    <tr>\n",
              "      <th>MntWines</th>\n",
              "      <td>int64</td>\n",
              "    </tr>\n",
              "    <tr>\n",
              "      <th>MntFruits</th>\n",
              "      <td>int64</td>\n",
              "    </tr>\n",
              "    <tr>\n",
              "      <th>MntMeatProducts</th>\n",
              "      <td>int64</td>\n",
              "    </tr>\n",
              "    <tr>\n",
              "      <th>MntFishProducts</th>\n",
              "      <td>int64</td>\n",
              "    </tr>\n",
              "    <tr>\n",
              "      <th>MntSweetProducts</th>\n",
              "      <td>int64</td>\n",
              "    </tr>\n",
              "    <tr>\n",
              "      <th>MntGoldProds</th>\n",
              "      <td>int64</td>\n",
              "    </tr>\n",
              "    <tr>\n",
              "      <th>NumDealsPurchases</th>\n",
              "      <td>int64</td>\n",
              "    </tr>\n",
              "    <tr>\n",
              "      <th>NumWebPurchases</th>\n",
              "      <td>int64</td>\n",
              "    </tr>\n",
              "    <tr>\n",
              "      <th>NumCatalogPurchases</th>\n",
              "      <td>int64</td>\n",
              "    </tr>\n",
              "    <tr>\n",
              "      <th>NumStorePurchases</th>\n",
              "      <td>int64</td>\n",
              "    </tr>\n",
              "    <tr>\n",
              "      <th>NumWebVisitsMonth</th>\n",
              "      <td>int64</td>\n",
              "    </tr>\n",
              "    <tr>\n",
              "      <th>AcceptedCmp3</th>\n",
              "      <td>int64</td>\n",
              "    </tr>\n",
              "    <tr>\n",
              "      <th>AcceptedCmp4</th>\n",
              "      <td>int64</td>\n",
              "    </tr>\n",
              "    <tr>\n",
              "      <th>AcceptedCmp5</th>\n",
              "      <td>int64</td>\n",
              "    </tr>\n",
              "    <tr>\n",
              "      <th>AcceptedCmp1</th>\n",
              "      <td>int64</td>\n",
              "    </tr>\n",
              "    <tr>\n",
              "      <th>AcceptedCmp2</th>\n",
              "      <td>int64</td>\n",
              "    </tr>\n",
              "    <tr>\n",
              "      <th>Complain</th>\n",
              "      <td>int64</td>\n",
              "    </tr>\n",
              "    <tr>\n",
              "      <th>Z_CostContact</th>\n",
              "      <td>int64</td>\n",
              "    </tr>\n",
              "    <tr>\n",
              "      <th>Z_Revenue</th>\n",
              "      <td>int64</td>\n",
              "    </tr>\n",
              "    <tr>\n",
              "      <th>Response</th>\n",
              "      <td>int64</td>\n",
              "    </tr>\n",
              "  </tbody>\n",
              "</table>\n",
              "</div><br><label><b>dtype:</b> object</label>"
            ]
          },
          "metadata": {},
          "execution_count": 9
        }
      ]
    },
    {
      "cell_type": "code",
      "source": [
        "df['Dt_Customer'] = pd.to_datetime(df['Dt_Customer'])"
      ],
      "metadata": {
        "id": "4W_8Oo-D-ZF8"
      },
      "execution_count": 11,
      "outputs": []
    },
    {
      "cell_type": "code",
      "source": [
        "df.dtypes"
      ],
      "metadata": {
        "colab": {
          "base_uri": "https://localhost:8080/",
          "height": 994
        },
        "id": "BxoCO7mZ-_rF",
        "outputId": "f37ec437-f788-40bc-bfd4-0c0fdd47840c"
      },
      "execution_count": 13,
      "outputs": [
        {
          "output_type": "execute_result",
          "data": {
            "text/plain": [
              "ID                              int64\n",
              "Year_Birth                      int64\n",
              "Education                      object\n",
              "Marital_Status                 object\n",
              "Income                        float64\n",
              "Kidhome                         int64\n",
              "Teenhome                        int64\n",
              "Dt_Customer            datetime64[ns]\n",
              "Recency                         int64\n",
              "MntWines                        int64\n",
              "MntFruits                       int64\n",
              "MntMeatProducts                 int64\n",
              "MntFishProducts                 int64\n",
              "MntSweetProducts                int64\n",
              "MntGoldProds                    int64\n",
              "NumDealsPurchases               int64\n",
              "NumWebPurchases                 int64\n",
              "NumCatalogPurchases             int64\n",
              "NumStorePurchases               int64\n",
              "NumWebVisitsMonth               int64\n",
              "AcceptedCmp3                    int64\n",
              "AcceptedCmp4                    int64\n",
              "AcceptedCmp5                    int64\n",
              "AcceptedCmp1                    int64\n",
              "AcceptedCmp2                    int64\n",
              "Complain                        int64\n",
              "Z_CostContact                   int64\n",
              "Z_Revenue                       int64\n",
              "Response                        int64\n",
              "dtype: object"
            ],
            "text/html": [
              "<div>\n",
              "<style scoped>\n",
              "    .dataframe tbody tr th:only-of-type {\n",
              "        vertical-align: middle;\n",
              "    }\n",
              "\n",
              "    .dataframe tbody tr th {\n",
              "        vertical-align: top;\n",
              "    }\n",
              "\n",
              "    .dataframe thead th {\n",
              "        text-align: right;\n",
              "    }\n",
              "</style>\n",
              "<table border=\"1\" class=\"dataframe\">\n",
              "  <thead>\n",
              "    <tr style=\"text-align: right;\">\n",
              "      <th></th>\n",
              "      <th>0</th>\n",
              "    </tr>\n",
              "  </thead>\n",
              "  <tbody>\n",
              "    <tr>\n",
              "      <th>ID</th>\n",
              "      <td>int64</td>\n",
              "    </tr>\n",
              "    <tr>\n",
              "      <th>Year_Birth</th>\n",
              "      <td>int64</td>\n",
              "    </tr>\n",
              "    <tr>\n",
              "      <th>Education</th>\n",
              "      <td>object</td>\n",
              "    </tr>\n",
              "    <tr>\n",
              "      <th>Marital_Status</th>\n",
              "      <td>object</td>\n",
              "    </tr>\n",
              "    <tr>\n",
              "      <th>Income</th>\n",
              "      <td>float64</td>\n",
              "    </tr>\n",
              "    <tr>\n",
              "      <th>Kidhome</th>\n",
              "      <td>int64</td>\n",
              "    </tr>\n",
              "    <tr>\n",
              "      <th>Teenhome</th>\n",
              "      <td>int64</td>\n",
              "    </tr>\n",
              "    <tr>\n",
              "      <th>Dt_Customer</th>\n",
              "      <td>datetime64[ns]</td>\n",
              "    </tr>\n",
              "    <tr>\n",
              "      <th>Recency</th>\n",
              "      <td>int64</td>\n",
              "    </tr>\n",
              "    <tr>\n",
              "      <th>MntWines</th>\n",
              "      <td>int64</td>\n",
              "    </tr>\n",
              "    <tr>\n",
              "      <th>MntFruits</th>\n",
              "      <td>int64</td>\n",
              "    </tr>\n",
              "    <tr>\n",
              "      <th>MntMeatProducts</th>\n",
              "      <td>int64</td>\n",
              "    </tr>\n",
              "    <tr>\n",
              "      <th>MntFishProducts</th>\n",
              "      <td>int64</td>\n",
              "    </tr>\n",
              "    <tr>\n",
              "      <th>MntSweetProducts</th>\n",
              "      <td>int64</td>\n",
              "    </tr>\n",
              "    <tr>\n",
              "      <th>MntGoldProds</th>\n",
              "      <td>int64</td>\n",
              "    </tr>\n",
              "    <tr>\n",
              "      <th>NumDealsPurchases</th>\n",
              "      <td>int64</td>\n",
              "    </tr>\n",
              "    <tr>\n",
              "      <th>NumWebPurchases</th>\n",
              "      <td>int64</td>\n",
              "    </tr>\n",
              "    <tr>\n",
              "      <th>NumCatalogPurchases</th>\n",
              "      <td>int64</td>\n",
              "    </tr>\n",
              "    <tr>\n",
              "      <th>NumStorePurchases</th>\n",
              "      <td>int64</td>\n",
              "    </tr>\n",
              "    <tr>\n",
              "      <th>NumWebVisitsMonth</th>\n",
              "      <td>int64</td>\n",
              "    </tr>\n",
              "    <tr>\n",
              "      <th>AcceptedCmp3</th>\n",
              "      <td>int64</td>\n",
              "    </tr>\n",
              "    <tr>\n",
              "      <th>AcceptedCmp4</th>\n",
              "      <td>int64</td>\n",
              "    </tr>\n",
              "    <tr>\n",
              "      <th>AcceptedCmp5</th>\n",
              "      <td>int64</td>\n",
              "    </tr>\n",
              "    <tr>\n",
              "      <th>AcceptedCmp1</th>\n",
              "      <td>int64</td>\n",
              "    </tr>\n",
              "    <tr>\n",
              "      <th>AcceptedCmp2</th>\n",
              "      <td>int64</td>\n",
              "    </tr>\n",
              "    <tr>\n",
              "      <th>Complain</th>\n",
              "      <td>int64</td>\n",
              "    </tr>\n",
              "    <tr>\n",
              "      <th>Z_CostContact</th>\n",
              "      <td>int64</td>\n",
              "    </tr>\n",
              "    <tr>\n",
              "      <th>Z_Revenue</th>\n",
              "      <td>int64</td>\n",
              "    </tr>\n",
              "    <tr>\n",
              "      <th>Response</th>\n",
              "      <td>int64</td>\n",
              "    </tr>\n",
              "  </tbody>\n",
              "</table>\n",
              "</div><br><label><b>dtype:</b> object</label>"
            ]
          },
          "metadata": {},
          "execution_count": 13
        }
      ]
    },
    {
      "cell_type": "code",
      "source": [
        "df = pd.get_dummies(df, columns=['Education' , 'Marital_Status'])"
      ],
      "metadata": {
        "id": "BFQHJqsR_CFf"
      },
      "execution_count": 14,
      "outputs": []
    },
    {
      "cell_type": "code",
      "source": [
        "print(df.head())"
      ],
      "metadata": {
        "colab": {
          "base_uri": "https://localhost:8080/"
        },
        "id": "kVZIA9LI_Px0",
        "outputId": "71d91775-a72e-46f4-a0da-c00ac9ef469e"
      },
      "execution_count": 15,
      "outputs": [
        {
          "output_type": "stream",
          "name": "stdout",
          "text": [
            "     ID  Year_Birth   Income  Kidhome  Teenhome Dt_Customer  Recency  \\\n",
            "0  5524        1957  58138.0        0         0  2012-09-04       58   \n",
            "1  2174        1954  46344.0        1         1  2014-03-08       38   \n",
            "2  4141        1965  71613.0        0         0  2013-08-21       26   \n",
            "3  6182        1984  26646.0        1         0  2014-02-10       26   \n",
            "4  5324        1981  58293.0        1         0  2014-01-19       94   \n",
            "\n",
            "   MntWines  MntFruits  MntMeatProducts  ...  Education_Master  Education_PhD  \\\n",
            "0       635         88              546  ...             False          False   \n",
            "1        11          1                6  ...             False          False   \n",
            "2       426         49              127  ...             False          False   \n",
            "3        11          4               20  ...             False          False   \n",
            "4       173         43              118  ...             False           True   \n",
            "\n",
            "   Marital_Status_Absurd  Marital_Status_Alone  Marital_Status_Divorced  \\\n",
            "0                  False                 False                    False   \n",
            "1                  False                 False                    False   \n",
            "2                  False                 False                    False   \n",
            "3                  False                 False                    False   \n",
            "4                  False                 False                    False   \n",
            "\n",
            "   Marital_Status_Married  Marital_Status_Single  Marital_Status_Together  \\\n",
            "0                   False                   True                    False   \n",
            "1                   False                   True                    False   \n",
            "2                   False                  False                     True   \n",
            "3                   False                  False                     True   \n",
            "4                    True                  False                    False   \n",
            "\n",
            "   Marital_Status_Widow  Marital_Status_YOLO  \n",
            "0                 False                False  \n",
            "1                 False                False  \n",
            "2                 False                False  \n",
            "3                 False                False  \n",
            "4                 False                False  \n",
            "\n",
            "[5 rows x 40 columns]\n"
          ]
        }
      ]
    },
    {
      "cell_type": "code",
      "source": [
        "df['Total Spend'] = df['MntWines'] + df['MntFruits'] + df['MntMeatProducts'] + df['MntFishProducts'] + df['MntSweetProducts'] + df['MntGoldProds']"
      ],
      "metadata": {
        "id": "1FfuAzeo_T9K"
      },
      "execution_count": 16,
      "outputs": []
    },
    {
      "cell_type": "code",
      "source": [
        "print(df['Total Spend'])"
      ],
      "metadata": {
        "colab": {
          "base_uri": "https://localhost:8080/"
        },
        "id": "PTfNE63HB7XG",
        "outputId": "3a9b564c-0e22-4012-ee19-b3dd48dd561b"
      },
      "execution_count": 17,
      "outputs": [
        {
          "output_type": "stream",
          "name": "stdout",
          "text": [
            "0       1617\n",
            "1         27\n",
            "2        776\n",
            "3         53\n",
            "4        422\n",
            "        ... \n",
            "2235    1341\n",
            "2236     444\n",
            "2237    1241\n",
            "2238     843\n",
            "2239     172\n",
            "Name: Total Spend, Length: 2240, dtype: int64\n"
          ]
        }
      ]
    },
    {
      "cell_type": "code",
      "source": [
        "print(df)"
      ],
      "metadata": {
        "colab": {
          "base_uri": "https://localhost:8080/"
        },
        "id": "PifgVZGpCEC_",
        "outputId": "70c696b2-7538-47bf-9dad-0c24e280c34b"
      },
      "execution_count": 18,
      "outputs": [
        {
          "output_type": "stream",
          "name": "stdout",
          "text": [
            "         ID  Year_Birth   Income  Kidhome  Teenhome Dt_Customer  Recency  \\\n",
            "0      5524        1957  58138.0        0         0  2012-09-04       58   \n",
            "1      2174        1954  46344.0        1         1  2014-03-08       38   \n",
            "2      4141        1965  71613.0        0         0  2013-08-21       26   \n",
            "3      6182        1984  26646.0        1         0  2014-02-10       26   \n",
            "4      5324        1981  58293.0        1         0  2014-01-19       94   \n",
            "...     ...         ...      ...      ...       ...         ...      ...   \n",
            "2235  10870        1967  61223.0        0         1  2013-06-13       46   \n",
            "2236   4001        1946  64014.0        2         1  2014-06-10       56   \n",
            "2237   7270        1981  56981.0        0         0  2014-01-25       91   \n",
            "2238   8235        1956  69245.0        0         1  2014-01-24        8   \n",
            "2239   9405        1954  52869.0        1         1  2012-10-15       40   \n",
            "\n",
            "      MntWines  MntFruits  MntMeatProducts  ...  Education_PhD  \\\n",
            "0          635         88              546  ...          False   \n",
            "1           11          1                6  ...          False   \n",
            "2          426         49              127  ...          False   \n",
            "3           11          4               20  ...          False   \n",
            "4          173         43              118  ...           True   \n",
            "...        ...        ...              ...  ...            ...   \n",
            "2235       709         43              182  ...          False   \n",
            "2236       406          0               30  ...           True   \n",
            "2237       908         48              217  ...          False   \n",
            "2238       428         30              214  ...          False   \n",
            "2239        84          3               61  ...           True   \n",
            "\n",
            "      Marital_Status_Absurd  Marital_Status_Alone  Marital_Status_Divorced  \\\n",
            "0                     False                 False                    False   \n",
            "1                     False                 False                    False   \n",
            "2                     False                 False                    False   \n",
            "3                     False                 False                    False   \n",
            "4                     False                 False                    False   \n",
            "...                     ...                   ...                      ...   \n",
            "2235                  False                 False                    False   \n",
            "2236                  False                 False                    False   \n",
            "2237                  False                 False                     True   \n",
            "2238                  False                 False                    False   \n",
            "2239                  False                 False                    False   \n",
            "\n",
            "      Marital_Status_Married  Marital_Status_Single  Marital_Status_Together  \\\n",
            "0                      False                   True                    False   \n",
            "1                      False                   True                    False   \n",
            "2                      False                  False                     True   \n",
            "3                      False                  False                     True   \n",
            "4                       True                  False                    False   \n",
            "...                      ...                    ...                      ...   \n",
            "2235                    True                  False                    False   \n",
            "2236                   False                  False                     True   \n",
            "2237                   False                  False                    False   \n",
            "2238                   False                  False                     True   \n",
            "2239                    True                  False                    False   \n",
            "\n",
            "      Marital_Status_Widow  Marital_Status_YOLO  Total Spend  \n",
            "0                    False                False         1617  \n",
            "1                    False                False           27  \n",
            "2                    False                False          776  \n",
            "3                    False                False           53  \n",
            "4                    False                False          422  \n",
            "...                    ...                  ...          ...  \n",
            "2235                 False                False         1341  \n",
            "2236                 False                False          444  \n",
            "2237                 False                False         1241  \n",
            "2238                 False                False          843  \n",
            "2239                 False                False          172  \n",
            "\n",
            "[2240 rows x 41 columns]\n"
          ]
        }
      ]
    },
    {
      "cell_type": "code",
      "source": [
        "df['Total Purchases'] = df['NumCatalogPurchases'] + df['NumStorePurchases'] + df['NumWebPurchases']\n",
        "df['Total Purchases']"
      ],
      "metadata": {
        "colab": {
          "base_uri": "https://localhost:8080/",
          "height": 458
        },
        "id": "PMU9iqV_CXK3",
        "outputId": "09bbfbf8-0503-48b8-f302-41df7a333783"
      },
      "execution_count": 19,
      "outputs": [
        {
          "output_type": "execute_result",
          "data": {
            "text/plain": [
              "0       22\n",
              "1        4\n",
              "2       20\n",
              "3        6\n",
              "4       14\n",
              "        ..\n",
              "2235    16\n",
              "2236    15\n",
              "2237    18\n",
              "2238    21\n",
              "2239     8\n",
              "Name: Total Purchases, Length: 2240, dtype: int64"
            ],
            "text/html": [
              "<div>\n",
              "<style scoped>\n",
              "    .dataframe tbody tr th:only-of-type {\n",
              "        vertical-align: middle;\n",
              "    }\n",
              "\n",
              "    .dataframe tbody tr th {\n",
              "        vertical-align: top;\n",
              "    }\n",
              "\n",
              "    .dataframe thead th {\n",
              "        text-align: right;\n",
              "    }\n",
              "</style>\n",
              "<table border=\"1\" class=\"dataframe\">\n",
              "  <thead>\n",
              "    <tr style=\"text-align: right;\">\n",
              "      <th></th>\n",
              "      <th>Total Purchases</th>\n",
              "    </tr>\n",
              "  </thead>\n",
              "  <tbody>\n",
              "    <tr>\n",
              "      <th>0</th>\n",
              "      <td>22</td>\n",
              "    </tr>\n",
              "    <tr>\n",
              "      <th>1</th>\n",
              "      <td>4</td>\n",
              "    </tr>\n",
              "    <tr>\n",
              "      <th>2</th>\n",
              "      <td>20</td>\n",
              "    </tr>\n",
              "    <tr>\n",
              "      <th>3</th>\n",
              "      <td>6</td>\n",
              "    </tr>\n",
              "    <tr>\n",
              "      <th>4</th>\n",
              "      <td>14</td>\n",
              "    </tr>\n",
              "    <tr>\n",
              "      <th>...</th>\n",
              "      <td>...</td>\n",
              "    </tr>\n",
              "    <tr>\n",
              "      <th>2235</th>\n",
              "      <td>16</td>\n",
              "    </tr>\n",
              "    <tr>\n",
              "      <th>2236</th>\n",
              "      <td>15</td>\n",
              "    </tr>\n",
              "    <tr>\n",
              "      <th>2237</th>\n",
              "      <td>18</td>\n",
              "    </tr>\n",
              "    <tr>\n",
              "      <th>2238</th>\n",
              "      <td>21</td>\n",
              "    </tr>\n",
              "    <tr>\n",
              "      <th>2239</th>\n",
              "      <td>8</td>\n",
              "    </tr>\n",
              "  </tbody>\n",
              "</table>\n",
              "<p>2240 rows × 1 columns</p>\n",
              "</div><br><label><b>dtype:</b> int64</label>"
            ]
          },
          "metadata": {},
          "execution_count": 19
        }
      ]
    },
    {
      "cell_type": "code",
      "source": [
        "df['ROI'] = ((df['Z_Revenue'] - df['Z_CostContact']) / df['Z_CostContact']) * 100"
      ],
      "metadata": {
        "id": "5PTHdudUChZf"
      },
      "execution_count": 20,
      "outputs": []
    },
    {
      "cell_type": "code",
      "source": [
        "print(df['ROI'])"
      ],
      "metadata": {
        "colab": {
          "base_uri": "https://localhost:8080/"
        },
        "id": "vr9T52iHCryF",
        "outputId": "a7cdc475-2ced-4806-c0d8-e93f217a276f"
      },
      "execution_count": 21,
      "outputs": [
        {
          "output_type": "stream",
          "name": "stdout",
          "text": [
            "0       266.666667\n",
            "1       266.666667\n",
            "2       266.666667\n",
            "3       266.666667\n",
            "4       266.666667\n",
            "           ...    \n",
            "2235    266.666667\n",
            "2236    266.666667\n",
            "2237    266.666667\n",
            "2238    266.666667\n",
            "2239    266.666667\n",
            "Name: ROI, Length: 2240, dtype: float64\n"
          ]
        }
      ]
    },
    {
      "cell_type": "code",
      "source": [
        "print(df)"
      ],
      "metadata": {
        "colab": {
          "base_uri": "https://localhost:8080/"
        },
        "id": "JWGEa6QfDMSn",
        "outputId": "57e95c10-5cab-4927-e9f0-2db6f9e8b8a3"
      },
      "execution_count": 22,
      "outputs": [
        {
          "output_type": "stream",
          "name": "stdout",
          "text": [
            "         ID  Year_Birth   Income  Kidhome  Teenhome Dt_Customer  Recency  \\\n",
            "0      5524        1957  58138.0        0         0  2012-09-04       58   \n",
            "1      2174        1954  46344.0        1         1  2014-03-08       38   \n",
            "2      4141        1965  71613.0        0         0  2013-08-21       26   \n",
            "3      6182        1984  26646.0        1         0  2014-02-10       26   \n",
            "4      5324        1981  58293.0        1         0  2014-01-19       94   \n",
            "...     ...         ...      ...      ...       ...         ...      ...   \n",
            "2235  10870        1967  61223.0        0         1  2013-06-13       46   \n",
            "2236   4001        1946  64014.0        2         1  2014-06-10       56   \n",
            "2237   7270        1981  56981.0        0         0  2014-01-25       91   \n",
            "2238   8235        1956  69245.0        0         1  2014-01-24        8   \n",
            "2239   9405        1954  52869.0        1         1  2012-10-15       40   \n",
            "\n",
            "      MntWines  MntFruits  MntMeatProducts  ...  Marital_Status_Alone  \\\n",
            "0          635         88              546  ...                 False   \n",
            "1           11          1                6  ...                 False   \n",
            "2          426         49              127  ...                 False   \n",
            "3           11          4               20  ...                 False   \n",
            "4          173         43              118  ...                 False   \n",
            "...        ...        ...              ...  ...                   ...   \n",
            "2235       709         43              182  ...                 False   \n",
            "2236       406          0               30  ...                 False   \n",
            "2237       908         48              217  ...                 False   \n",
            "2238       428         30              214  ...                 False   \n",
            "2239        84          3               61  ...                 False   \n",
            "\n",
            "      Marital_Status_Divorced  Marital_Status_Married  Marital_Status_Single  \\\n",
            "0                       False                   False                   True   \n",
            "1                       False                   False                   True   \n",
            "2                       False                   False                  False   \n",
            "3                       False                   False                  False   \n",
            "4                       False                    True                  False   \n",
            "...                       ...                     ...                    ...   \n",
            "2235                    False                    True                  False   \n",
            "2236                    False                   False                  False   \n",
            "2237                     True                   False                  False   \n",
            "2238                    False                   False                  False   \n",
            "2239                    False                    True                  False   \n",
            "\n",
            "      Marital_Status_Together  Marital_Status_Widow  Marital_Status_YOLO  \\\n",
            "0                       False                 False                False   \n",
            "1                       False                 False                False   \n",
            "2                        True                 False                False   \n",
            "3                        True                 False                False   \n",
            "4                       False                 False                False   \n",
            "...                       ...                   ...                  ...   \n",
            "2235                    False                 False                False   \n",
            "2236                     True                 False                False   \n",
            "2237                    False                 False                False   \n",
            "2238                     True                 False                False   \n",
            "2239                    False                 False                False   \n",
            "\n",
            "      Total Spend  Total Purchases         ROI  \n",
            "0            1617               22  266.666667  \n",
            "1              27                4  266.666667  \n",
            "2             776               20  266.666667  \n",
            "3              53                6  266.666667  \n",
            "4             422               14  266.666667  \n",
            "...           ...              ...         ...  \n",
            "2235         1341               16  266.666667  \n",
            "2236          444               15  266.666667  \n",
            "2237         1241               18  266.666667  \n",
            "2238          843               21  266.666667  \n",
            "2239          172                8  266.666667  \n",
            "\n",
            "[2240 rows x 43 columns]\n"
          ]
        }
      ]
    },
    {
      "cell_type": "code",
      "source": [
        "print(\"Duplicate Found: \" , df.duplicated().sum())"
      ],
      "metadata": {
        "colab": {
          "base_uri": "https://localhost:8080/"
        },
        "id": "zuqotpo2DloI",
        "outputId": "019f45b9-a170-4714-85ec-e1f28b13d7f1"
      },
      "execution_count": 23,
      "outputs": [
        {
          "output_type": "stream",
          "name": "stdout",
          "text": [
            "Duplicate Found:  0\n"
          ]
        }
      ]
    },
    {
      "cell_type": "code",
      "source": [
        "df = df.drop_duplicates()"
      ],
      "metadata": {
        "id": "G71WcIuhEXI3"
      },
      "execution_count": 25,
      "outputs": []
    },
    {
      "cell_type": "code",
      "source": [
        "df.dtypes"
      ],
      "metadata": {
        "colab": {
          "base_uri": "https://localhost:8080/",
          "height": 1000
        },
        "id": "RH-I88U2EfZ7",
        "outputId": "90b6712e-7ca5-4d00-b07e-8e856c5e755e"
      },
      "execution_count": 26,
      "outputs": [
        {
          "output_type": "execute_result",
          "data": {
            "text/plain": [
              "ID                                  int64\n",
              "Year_Birth                          int64\n",
              "Income                            float64\n",
              "Kidhome                             int64\n",
              "Teenhome                            int64\n",
              "Dt_Customer                datetime64[ns]\n",
              "Recency                             int64\n",
              "MntWines                            int64\n",
              "MntFruits                           int64\n",
              "MntMeatProducts                     int64\n",
              "MntFishProducts                     int64\n",
              "MntSweetProducts                    int64\n",
              "MntGoldProds                        int64\n",
              "NumDealsPurchases                   int64\n",
              "NumWebPurchases                     int64\n",
              "NumCatalogPurchases                 int64\n",
              "NumStorePurchases                   int64\n",
              "NumWebVisitsMonth                   int64\n",
              "AcceptedCmp3                        int64\n",
              "AcceptedCmp4                        int64\n",
              "AcceptedCmp5                        int64\n",
              "AcceptedCmp1                        int64\n",
              "AcceptedCmp2                        int64\n",
              "Complain                            int64\n",
              "Z_CostContact                       int64\n",
              "Z_Revenue                           int64\n",
              "Response                            int64\n",
              "Education_2n Cycle                   bool\n",
              "Education_Basic                      bool\n",
              "Education_Graduation                 bool\n",
              "Education_Master                     bool\n",
              "Education_PhD                        bool\n",
              "Marital_Status_Absurd                bool\n",
              "Marital_Status_Alone                 bool\n",
              "Marital_Status_Divorced              bool\n",
              "Marital_Status_Married               bool\n",
              "Marital_Status_Single                bool\n",
              "Marital_Status_Together              bool\n",
              "Marital_Status_Widow                 bool\n",
              "Marital_Status_YOLO                  bool\n",
              "Total Spend                         int64\n",
              "Total Purchases                     int64\n",
              "ROI                               float64\n",
              "dtype: object"
            ],
            "text/html": [
              "<div>\n",
              "<style scoped>\n",
              "    .dataframe tbody tr th:only-of-type {\n",
              "        vertical-align: middle;\n",
              "    }\n",
              "\n",
              "    .dataframe tbody tr th {\n",
              "        vertical-align: top;\n",
              "    }\n",
              "\n",
              "    .dataframe thead th {\n",
              "        text-align: right;\n",
              "    }\n",
              "</style>\n",
              "<table border=\"1\" class=\"dataframe\">\n",
              "  <thead>\n",
              "    <tr style=\"text-align: right;\">\n",
              "      <th></th>\n",
              "      <th>0</th>\n",
              "    </tr>\n",
              "  </thead>\n",
              "  <tbody>\n",
              "    <tr>\n",
              "      <th>ID</th>\n",
              "      <td>int64</td>\n",
              "    </tr>\n",
              "    <tr>\n",
              "      <th>Year_Birth</th>\n",
              "      <td>int64</td>\n",
              "    </tr>\n",
              "    <tr>\n",
              "      <th>Income</th>\n",
              "      <td>float64</td>\n",
              "    </tr>\n",
              "    <tr>\n",
              "      <th>Kidhome</th>\n",
              "      <td>int64</td>\n",
              "    </tr>\n",
              "    <tr>\n",
              "      <th>Teenhome</th>\n",
              "      <td>int64</td>\n",
              "    </tr>\n",
              "    <tr>\n",
              "      <th>Dt_Customer</th>\n",
              "      <td>datetime64[ns]</td>\n",
              "    </tr>\n",
              "    <tr>\n",
              "      <th>Recency</th>\n",
              "      <td>int64</td>\n",
              "    </tr>\n",
              "    <tr>\n",
              "      <th>MntWines</th>\n",
              "      <td>int64</td>\n",
              "    </tr>\n",
              "    <tr>\n",
              "      <th>MntFruits</th>\n",
              "      <td>int64</td>\n",
              "    </tr>\n",
              "    <tr>\n",
              "      <th>MntMeatProducts</th>\n",
              "      <td>int64</td>\n",
              "    </tr>\n",
              "    <tr>\n",
              "      <th>MntFishProducts</th>\n",
              "      <td>int64</td>\n",
              "    </tr>\n",
              "    <tr>\n",
              "      <th>MntSweetProducts</th>\n",
              "      <td>int64</td>\n",
              "    </tr>\n",
              "    <tr>\n",
              "      <th>MntGoldProds</th>\n",
              "      <td>int64</td>\n",
              "    </tr>\n",
              "    <tr>\n",
              "      <th>NumDealsPurchases</th>\n",
              "      <td>int64</td>\n",
              "    </tr>\n",
              "    <tr>\n",
              "      <th>NumWebPurchases</th>\n",
              "      <td>int64</td>\n",
              "    </tr>\n",
              "    <tr>\n",
              "      <th>NumCatalogPurchases</th>\n",
              "      <td>int64</td>\n",
              "    </tr>\n",
              "    <tr>\n",
              "      <th>NumStorePurchases</th>\n",
              "      <td>int64</td>\n",
              "    </tr>\n",
              "    <tr>\n",
              "      <th>NumWebVisitsMonth</th>\n",
              "      <td>int64</td>\n",
              "    </tr>\n",
              "    <tr>\n",
              "      <th>AcceptedCmp3</th>\n",
              "      <td>int64</td>\n",
              "    </tr>\n",
              "    <tr>\n",
              "      <th>AcceptedCmp4</th>\n",
              "      <td>int64</td>\n",
              "    </tr>\n",
              "    <tr>\n",
              "      <th>AcceptedCmp5</th>\n",
              "      <td>int64</td>\n",
              "    </tr>\n",
              "    <tr>\n",
              "      <th>AcceptedCmp1</th>\n",
              "      <td>int64</td>\n",
              "    </tr>\n",
              "    <tr>\n",
              "      <th>AcceptedCmp2</th>\n",
              "      <td>int64</td>\n",
              "    </tr>\n",
              "    <tr>\n",
              "      <th>Complain</th>\n",
              "      <td>int64</td>\n",
              "    </tr>\n",
              "    <tr>\n",
              "      <th>Z_CostContact</th>\n",
              "      <td>int64</td>\n",
              "    </tr>\n",
              "    <tr>\n",
              "      <th>Z_Revenue</th>\n",
              "      <td>int64</td>\n",
              "    </tr>\n",
              "    <tr>\n",
              "      <th>Response</th>\n",
              "      <td>int64</td>\n",
              "    </tr>\n",
              "    <tr>\n",
              "      <th>Education_2n Cycle</th>\n",
              "      <td>bool</td>\n",
              "    </tr>\n",
              "    <tr>\n",
              "      <th>Education_Basic</th>\n",
              "      <td>bool</td>\n",
              "    </tr>\n",
              "    <tr>\n",
              "      <th>Education_Graduation</th>\n",
              "      <td>bool</td>\n",
              "    </tr>\n",
              "    <tr>\n",
              "      <th>Education_Master</th>\n",
              "      <td>bool</td>\n",
              "    </tr>\n",
              "    <tr>\n",
              "      <th>Education_PhD</th>\n",
              "      <td>bool</td>\n",
              "    </tr>\n",
              "    <tr>\n",
              "      <th>Marital_Status_Absurd</th>\n",
              "      <td>bool</td>\n",
              "    </tr>\n",
              "    <tr>\n",
              "      <th>Marital_Status_Alone</th>\n",
              "      <td>bool</td>\n",
              "    </tr>\n",
              "    <tr>\n",
              "      <th>Marital_Status_Divorced</th>\n",
              "      <td>bool</td>\n",
              "    </tr>\n",
              "    <tr>\n",
              "      <th>Marital_Status_Married</th>\n",
              "      <td>bool</td>\n",
              "    </tr>\n",
              "    <tr>\n",
              "      <th>Marital_Status_Single</th>\n",
              "      <td>bool</td>\n",
              "    </tr>\n",
              "    <tr>\n",
              "      <th>Marital_Status_Together</th>\n",
              "      <td>bool</td>\n",
              "    </tr>\n",
              "    <tr>\n",
              "      <th>Marital_Status_Widow</th>\n",
              "      <td>bool</td>\n",
              "    </tr>\n",
              "    <tr>\n",
              "      <th>Marital_Status_YOLO</th>\n",
              "      <td>bool</td>\n",
              "    </tr>\n",
              "    <tr>\n",
              "      <th>Total Spend</th>\n",
              "      <td>int64</td>\n",
              "    </tr>\n",
              "    <tr>\n",
              "      <th>Total Purchases</th>\n",
              "      <td>int64</td>\n",
              "    </tr>\n",
              "    <tr>\n",
              "      <th>ROI</th>\n",
              "      <td>float64</td>\n",
              "    </tr>\n",
              "  </tbody>\n",
              "</table>\n",
              "</div><br><label><b>dtype:</b> object</label>"
            ]
          },
          "metadata": {},
          "execution_count": 26
        }
      ]
    },
    {
      "cell_type": "code",
      "source": [
        "import numpy as np"
      ],
      "metadata": {
        "id": "SrtF5dqoEiCv"
      },
      "execution_count": 27,
      "outputs": []
    },
    {
      "cell_type": "code",
      "source": [
        "numeric_cols = df.select_dtypes(include=[np.number])"
      ],
      "metadata": {
        "id": "YwBdk53zEuD9"
      },
      "execution_count": 28,
      "outputs": []
    },
    {
      "cell_type": "code",
      "source": [
        "Q1 = numeric_cols.quantile(0.25)\n",
        "Q3 = numeric_cols.quantile(0.75)\n",
        "IQR = Q3 - Q1"
      ],
      "metadata": {
        "id": "XGk4gr96FFFe"
      },
      "execution_count": 29,
      "outputs": []
    },
    {
      "cell_type": "code",
      "source": [
        "outlier_mask = ((numeric_cols < (Q1 - 1.5 * IQR)) | (numeric_cols > (Q3 + 1.5 * IQR)))"
      ],
      "metadata": {
        "id": "B4n8OHfvF0Og"
      },
      "execution_count": 30,
      "outputs": []
    },
    {
      "cell_type": "code",
      "source": [
        "outlier_counts_per_column = outlier_mask.sum()"
      ],
      "metadata": {
        "id": "fMezNfLeF3Tr"
      },
      "execution_count": 31,
      "outputs": []
    },
    {
      "cell_type": "code",
      "source": [
        "total_outlier_rows = outlier_mask.any(axis=1).sum()"
      ],
      "metadata": {
        "id": "a3qkGgbrF5vN"
      },
      "execution_count": 32,
      "outputs": []
    },
    {
      "cell_type": "code",
      "source": [
        "df_filtered = df[~outlier_mask.any(axis=1)]"
      ],
      "metadata": {
        "id": "-zEoSYlCF7-k"
      },
      "execution_count": 33,
      "outputs": []
    },
    {
      "cell_type": "code",
      "source": [
        "print(\"Outlier counts per numeric column:\")\n",
        "print(outlier_counts_per_column)\n",
        "print(\"\\nTotal number of rows with at least one outlier:\", total_outlier_rows)\n",
        "print(\"\\nNumber of rows after removing outliers:\", df_filtered.shape[0])"
      ],
      "metadata": {
        "colab": {
          "base_uri": "https://localhost:8080/"
        },
        "id": "ZLizDdr8F-Vk",
        "outputId": "9d84fdc4-5f2f-4f72-881e-17e83ea025ef"
      },
      "execution_count": 34,
      "outputs": [
        {
          "output_type": "stream",
          "name": "stdout",
          "text": [
            "Outlier counts per numeric column:\n",
            "ID                       0\n",
            "Year_Birth               3\n",
            "Income                   8\n",
            "Kidhome                  0\n",
            "Teenhome                 0\n",
            "Recency                  0\n",
            "MntWines                35\n",
            "MntFruits              227\n",
            "MntMeatProducts        175\n",
            "MntFishProducts        223\n",
            "MntSweetProducts       248\n",
            "MntGoldProds           207\n",
            "NumDealsPurchases       86\n",
            "NumWebPurchases          4\n",
            "NumCatalogPurchases     23\n",
            "NumStorePurchases        0\n",
            "NumWebVisitsMonth        8\n",
            "AcceptedCmp3           163\n",
            "AcceptedCmp4           167\n",
            "AcceptedCmp5           163\n",
            "AcceptedCmp1           144\n",
            "AcceptedCmp2            30\n",
            "Complain                21\n",
            "Z_CostContact            0\n",
            "Z_Revenue                0\n",
            "Response               334\n",
            "Total Spend              3\n",
            "Total Purchases          0\n",
            "ROI                      0\n",
            "dtype: int64\n",
            "\n",
            "Total number of rows with at least one outlier: 1032\n",
            "\n",
            "Number of rows after removing outliers: 1208\n"
          ]
        }
      ]
    },
    {
      "cell_type": "code",
      "source": [
        "import matplotlib.pyplot as plt"
      ],
      "metadata": {
        "id": "chIQezxbGBes"
      },
      "execution_count": 35,
      "outputs": []
    },
    {
      "cell_type": "code",
      "source": [
        "column_name = 'Income'"
      ],
      "metadata": {
        "id": "EpCm3-apGEPE"
      },
      "execution_count": 36,
      "outputs": []
    },
    {
      "cell_type": "code",
      "source": [
        "fig, ax = plt.subplots(1, 2, figsize=(12, 6))\n",
        "df[column_name].hist(ax=ax[0], bins=30, color='skyblue', edgecolor='black')\n",
        "ax[0].set_title('Before Outlier Removal')\n",
        "ax[0].set_xlabel(column_name)\n",
        "ax[0].set_ylabel('Frequency')\n",
        "df_filtered[column_name].hist(ax=ax[1], bins=30, color='lightgreen', edgecolor='black')\n",
        "ax[1].set_title('After Outlier Removal')\n",
        "ax[1].set_xlabel(column_name)\n",
        "ax[1].set_ylabel('Frequency')\n",
        "plt.show()"
      ],
      "metadata": {
        "colab": {
          "base_uri": "https://localhost:8080/",
          "height": 462
        },
        "id": "b5j6HY8tGGyQ",
        "outputId": "47f6c058-da0a-4ebd-b4c0-431afff2310a"
      },
      "execution_count": 37,
      "outputs": [
        {
          "output_type": "display_data",
          "data": {
            "text/plain": [
              "<Figure size 1200x600 with 2 Axes>"
            ],
            "image/png": "[encoded data removed]"
          },
          "metadata": {}
        }
      ]
    },
    {
      "cell_type": "code",
      "source": [
        "from sklearn.preprocessing import MinMaxScaler"
      ],
      "metadata": {
        "id": "3UTAAaPKGTot"
      },
      "execution_count": 38,
      "outputs": []
    },
    {
      "cell_type": "code",
      "source": [
        "expenditure_columns = ['MntWines', 'MntFruits', 'MntMeatProducts',\n",
        "'MntFishProducts', 'MntSweetProducts', 'MntGoldProds']"
      ],
      "metadata": {
        "id": "zjgLE_D8GjNb"
      },
      "execution_count": 39,
      "outputs": []
    },
    {
      "cell_type": "code",
      "source": [
        "scaler = MinMaxScaler()"
      ],
      "metadata": {
        "id": "qw4LXaoHGmHp"
      },
      "execution_count": 40,
      "outputs": []
    },
    {
      "cell_type": "code",
      "source": [
        "df[expenditure_columns] = scaler.fit_transform(df[expenditure_columns])"
      ],
      "metadata": {
        "id": "84f9rZ9QGoqn"
      },
      "execution_count": 41,
      "outputs": []
    },
    {
      "cell_type": "code",
      "source": [
        "print(df.head())"
      ],
      "metadata": {
        "colab": {
          "base_uri": "https://localhost:8080/"
        },
        "id": "wRpDUFFbGrEw",
        "outputId": "38b3df84-9086-4f79-87f9-52cc96f19c66"
      },
      "execution_count": 42,
      "outputs": [
        {
          "output_type": "stream",
          "name": "stdout",
          "text": [
            "     ID  Year_Birth   Income  Kidhome  Teenhome Dt_Customer  Recency  \\\n",
            "0  5524        1957  58138.0        0         0  2012-09-04       58   \n",
            "1  2174        1954  46344.0        1         1  2014-03-08       38   \n",
            "2  4141        1965  71613.0        0         0  2013-08-21       26   \n",
            "3  6182        1984  26646.0        1         0  2014-02-10       26   \n",
            "4  5324        1981  58293.0        1         0  2014-01-19       94   \n",
            "\n",
            "   MntWines  MntFruits  MntMeatProducts  ...  Marital_Status_Alone  \\\n",
            "0  0.425318   0.442211         0.316522  ...                 False   \n",
            "1  0.007368   0.005025         0.003478  ...                 False   \n",
            "2  0.285332   0.246231         0.073623  ...                 False   \n",
            "3  0.007368   0.020101         0.011594  ...                 False   \n",
            "4  0.115874   0.216080         0.068406  ...                 False   \n",
            "\n",
            "   Marital_Status_Divorced  Marital_Status_Married  Marital_Status_Single  \\\n",
            "0                    False                   False                   True   \n",
            "1                    False                   False                   True   \n",
            "2                    False                   False                  False   \n",
            "3                    False                   False                  False   \n",
            "4                    False                    True                  False   \n",
            "\n",
            "   Marital_Status_Together  Marital_Status_Widow  Marital_Status_YOLO  \\\n",
            "0                    False                 False                False   \n",
            "1                    False                 False                False   \n",
            "2                     True                 False                False   \n",
            "3                     True                 False                False   \n",
            "4                    False                 False                False   \n",
            "\n",
            "   Total Spend  Total Purchases         ROI  \n",
            "0         1617               22  266.666667  \n",
            "1           27                4  266.666667  \n",
            "2          776               20  266.666667  \n",
            "3           53                6  266.666667  \n",
            "4          422               14  266.666667  \n",
            "\n",
            "[5 rows x 43 columns]\n"
          ]
        }
      ]
    },
    {
      "cell_type": "code",
      "source": [
        "print(df[expenditure_columns].describe())"
      ],
      "metadata": {
        "colab": {
          "base_uri": "https://localhost:8080/"
        },
        "id": "JA2OTFQ7GtdB",
        "outputId": "268990a5-bec5-41be-f72d-1998f0ded89a"
      },
      "execution_count": 43,
      "outputs": [
        {
          "output_type": "stream",
          "name": "stdout",
          "text": [
            "          MntWines    MntFruits  MntMeatProducts  MntFishProducts  \\\n",
            "count  2240.000000  2240.000000      2240.000000      2240.000000   \n",
            "mean      0.203574     0.132172         0.096783         0.144886   \n",
            "std       0.225450     0.199867         0.130849         0.210923   \n",
            "min       0.000000     0.000000         0.000000         0.000000   \n",
            "25%       0.015908     0.005025         0.009275         0.011583   \n",
            "50%       0.116209     0.040201         0.038841         0.046332   \n",
            "75%       0.337743     0.165829         0.134493         0.193050   \n",
            "max       1.000000     1.000000         1.000000         1.000000   \n",
            "\n",
            "       MntSweetProducts  MntGoldProds  \n",
            "count       2240.000000   2240.000000  \n",
            "mean           0.102901      0.121607  \n",
            "std            0.156960      0.144109  \n",
            "min            0.000000      0.000000  \n",
            "25%            0.003802      0.024862  \n",
            "50%            0.030418      0.066298  \n",
            "75%            0.125475      0.154696  \n",
            "max            1.000000      1.000000  \n"
          ]
        }
      ]
    },
    {
      "cell_type": "code",
      "source": [
        "df_filtered.to_csv(\"marketing_campaign_processed.csv\", index=False)"
      ],
      "metadata": {
        "id": "-G_-hZZYGw6o"
      },
      "execution_count": 45,
      "outputs": []
    },
    {
      "cell_type": "code",
      "source": [],
      "metadata": {
        "id": "zm9k9PxCP091"
      },
      "execution_count": null,
      "outputs": []
    }
  ]
}